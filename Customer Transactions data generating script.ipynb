{
 "cells": [
  {
   "cell_type": "code",
   "execution_count": 5,
   "id": "122b7c7a",
   "metadata": {},
   "outputs": [
    {
     "name": "stdout",
     "output_type": "stream",
     "text": [
      "Sample data created and saved to {'C:\\\\Users\\\\baloy\\\\Desktop\\\\customer_transactions.csv'}\n"
     ]
    }
   ],
   "source": [
    "import pandas as pd\n",
    "import random\n",
    "from datetime import datetime, timedelta\n",
    "\n",
    "# Parameters\n",
    "num_customers = 300  # Number of unique customers\n",
    "num_transactions = 60000  # Total number of transactions\n",
    "merchant_categories = ['Grocery', 'Electronics', 'Clothing', 'Dining', 'Health', 'Entertainment']\n",
    "locations = ['New York', 'Los Angeles', 'Chicago', 'Houston', 'Phoenix']\n",
    "\n",
    "# Generating customer IDs\n",
    "customer_ids = [f\"CUST_{i+1}\" for i in range(num_customers)]\n",
    "\n",
    "# Generating random transaction data\n",
    "data = []\n",
    "for _ in range(num_transactions):\n",
    "    customer_id = random.choice(customer_ids)\n",
    "    transaction_amount = round(random.uniform(5.0, 500.0), 2)\n",
    "    transaction_date = datetime.now() - timedelta(days=random.randint(1, 30))\n",
    "    merchant_category = random.choice(merchant_categories)\n",
    "    location = random.choice(locations)\n",
    "\n",
    "    data.append([customer_id, transaction_amount, transaction_date.strftime('%Y-%m-%d %H:%M:%S'), merchant_category, location])\n",
    "\n",
    "# Creating DataFrame\n",
    "df = pd.DataFrame(data, columns=['CustomerID', 'TransactionAmount', 'TransactionDate', 'MerchantCategory', 'Location'])\n",
    "\n",
    "# Save to CSV\n",
    "csv_file_path = r\"C:\\Users\\baloy\\Desktop\\customer_transactions.csv\"  # Use raw string here\n",
    "df.to_csv(csv_file_path, index=False)\n",
    "\n",
    "print(r\"Sample data created and saved to {'C:\\\\Users\\\\baloy\\\\Desktop\\\\customer_transactions.csv'}\")\n"
   ]
  },
  {
   "cell_type": "code",
   "execution_count": null,
   "id": "b902665c",
   "metadata": {},
   "outputs": [],
   "source": []
  }
 ],
 "metadata": {
  "kernelspec": {
   "display_name": "Python 3 (ipykernel)",
   "language": "python",
   "name": "python3"
  },
  "language_info": {
   "codemirror_mode": {
    "name": "ipython",
    "version": 3
   },
   "file_extension": ".py",
   "mimetype": "text/x-python",
   "name": "python",
   "nbconvert_exporter": "python",
   "pygments_lexer": "ipython3",
   "version": "3.11.5"
  }
 },
 "nbformat": 4,
 "nbformat_minor": 5
}
