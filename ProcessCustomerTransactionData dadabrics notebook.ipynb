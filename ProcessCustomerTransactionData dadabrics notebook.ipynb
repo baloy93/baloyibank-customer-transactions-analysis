{
 "cells": [
  {
   "cell_type": "code",
   "execution_count": 0,
   "metadata": {
    "application/vnd.databricks.v1+cell": {
     "cellMetadata": {
      "byteLimit": 2048000,
      "rowLimit": 10000
     },
     "inputWidgets": {},
     "nuid": "7b07aa0b-50e7-4eb5-a8f7-b123a33f6615",
     "showTitle": false,
     "title": ""
    }
   },
   "outputs": [
    {
     "output_type": "stream",
     "name": "stdout",
     "output_type": "stream",
     "text": [
      "/mnt/processedtransactions has been unmounted.\n"
     ]
    },
    {
     "output_type": "execute_result",
     "data": {
      "text/plain": [
       "True"
      ]
     },
     "execution_count": 1,
     "metadata": {},
     "output_type": "execute_result"
    }
   ],
   "source": [
    "# Unmounting the existing mount point\n",
    "dbutils.fs.unmount(\"/mnt/processedtransactions\")\n",
    "\n",
    "# mounting the blob storage\n",
    "dbutils.fs.mount(\n",
    "  source=\"wasbs://customer-transactions@baloyibank.blob.core.windows.net\",\n",
    "  mount_point=\"/mnt/processedtransactions\",\n",
    "  extra_configs={\n",
    "    \"fs.azure.account.key.baloyibank.blob.core.windows.net\": \"N24LzTMUtY6ZxJUUSSQEQOjlzsAe+3YxO/omEzwb9c0EcgbkExlUouTk9mVA85r+AStMazDLw==\"\n",
    "  }\n",
    ")"
   ]
  },
  {
   "cell_type": "code",
   "execution_count": 0,
   "metadata": {
    "application/vnd.databricks.v1+cell": {
     "cellMetadata": {
      "byteLimit": 2048000,
      "rowLimit": 10000
     },
     "inputWidgets": {},
     "nuid": "e01e03de-61a5-4848-82f3-6a3946d55612",
     "showTitle": false,
     "title": ""
    }
   },
   "outputs": [
    {
     "output_type": "execute_result",
     "data": {
      "text/plain": [
       "[FileInfo(path='dbfs:/mnt/processedtransactions/processed data/customer_transactions.csv', name='customer_transactions.csv', size=3292093, modificationTime=1729100842000)]"
      ]
     },
     "execution_count": 2,
     "metadata": {},
     "output_type": "execute_result"
    }
   ],
   "source": [
    "dbutils.fs.ls(\"/mnt/processedtransactions/processed data\")"
   ]
  },
  {
   "cell_type": "code",
   "execution_count": 0,
   "metadata": {
    "application/vnd.databricks.v1+cell": {
     "cellMetadata": {
      "byteLimit": 2048000,
      "rowLimit": 10000
     },
     "inputWidgets": {},
     "nuid": "b6740fe5-e70f-4678-97dd-5a46fa0e330a",
     "showTitle": false,
     "title": ""
    }
   },
   "outputs": [],
   "source": [
    "df = spark.read.csv(\"/mnt/processedtransactions/processed data\", header=True, inferSchema=True)\n",
    "display(df) "
   ]
  },
  {
   "cell_type": "code",
   "execution_count": 0,
   "metadata": {
    "application/vnd.databricks.v1+cell": {
     "cellMetadata": {
      "byteLimit": 2048000,
      "rowLimit": 10000
     },
     "inputWidgets": {},
     "nuid": "db3fa695-ffab-4959-9739-e91da5b90e3c",
     "showTitle": false,
     "title": ""
    }
   },
   "outputs": [
    {
     "output_type": "stream",
     "name": "stdout",
     "output_type": "stream",
     "text": [
      "+----------+-----------------+-------------------+----------------+-----------+\n|CustomerID|TransactionAmount|    TransactionDate|MerchantCategory|   Location|\n+----------+-----------------+-------------------+----------------+-----------+\n|  CUST_214|           138.29|2024-09-22 17:45:39|   Entertainment|Los Angeles|\n|   CUST_67|           295.08|2024-09-16 17:45:39|        Clothing|   New York|\n|  CUST_250|           235.56|2024-09-13 17:45:39|     Electronics|Los Angeles|\n|  CUST_233|            57.04|2024-09-15 17:45:39|        Clothing|    Phoenix|\n|  CUST_149|           124.61|2024-10-05 17:45:39|         Grocery|    Chicago|\n|   CUST_58|           178.88|2024-09-30 17:45:39|   Entertainment|    Chicago|\n|  CUST_117|           299.58|2024-09-19 17:45:39|          Health|   New York|\n|    CUST_4|           228.14|2024-09-21 17:45:39|     Electronics|    Houston|\n|  CUST_155|           272.15|2024-09-19 17:45:39|   Entertainment|    Houston|\n|   CUST_31|            282.9|2024-09-19 17:45:39|          Dining|    Houston|\n+----------+-----------------+-------------------+----------------+-----------+\nonly showing top 10 rows\n\n"
     ]
    }
   ],
   "source": [
    "# Dropping rows where any value in the important columns is null\n",
    "df_cleaned = df.dropna(subset=[\"CustomerID\", \"TransactionAmount\", \"TransactionDate\", \"MerchantCategory\", \"Location\"])\n",
    "\n",
    "# Showing the first few rows of the cleaned data\n",
    "df_cleaned.show(10)\n"
   ]
  },
  {
   "cell_type": "code",
   "execution_count": 0,
   "metadata": {
    "application/vnd.databricks.v1+cell": {
     "cellMetadata": {
      "byteLimit": 2048000,
      "rowLimit": 10000
     },
     "inputWidgets": {},
     "nuid": "597665d0-5d1e-421c-8155-e5fde463d920",
     "showTitle": false,
     "title": ""
    }
   },
   "outputs": [
    {
     "output_type": "stream",
     "name": "stdout",
     "output_type": "stream",
     "text": [
      "+----------+-----------------+-------------------+----------------+-----------+\n|CustomerID|TransactionAmount|    TransactionDate|MerchantCategory|   Location|\n+----------+-----------------+-------------------+----------------+-----------+\n|  CUST_214|           138.29|2024-09-22 17:45:39|   Entertainment|Los Angeles|\n|   CUST_67|           295.08|2024-09-16 17:45:39|        Clothing|   New York|\n|  CUST_250|           235.56|2024-09-13 17:45:39|     Electronics|Los Angeles|\n|  CUST_149|           124.61|2024-10-05 17:45:39|         Grocery|    Chicago|\n|   CUST_58|           178.88|2024-09-30 17:45:39|   Entertainment|    Chicago|\n+----------+-----------------+-------------------+----------------+-----------+\nonly showing top 5 rows\n\n"
     ]
    }
   ],
   "source": [
    "# Filter transactions where the TransactionAmount is greater than 100\n",
    "df_filtered = df_cleaned.filter(df_cleaned[\"TransactionAmount\"] > 100)\n",
    "\n",
    "# Showing the filtered data\n",
    "df_filtered.show(5)\n"
   ]
  },
  {
   "cell_type": "code",
   "execution_count": 0,
   "metadata": {
    "application/vnd.databricks.v1+cell": {
     "cellMetadata": {
      "byteLimit": 2048000,
      "rowLimit": 10000
     },
     "inputWidgets": {},
     "nuid": "8a57b826-6284-405c-b969-e2a6caeac945",
     "showTitle": false,
     "title": ""
    }
   },
   "outputs": [
    {
     "output_type": "stream",
     "name": "stdout",
     "output_type": "stream",
     "text": [
      "+----------+------------------+\n|CustomerID|        TotalSpent|\n+----------+------------------+\n|  CUST_246|45950.439999999995|\n|  CUST_285|41186.819999999985|\n|   CUST_62|49076.420000000006|\n|  CUST_159| 47264.50000000001|\n|   CUST_25| 50174.17000000002|\n+----------+------------------+\nonly showing top 5 rows\n\n"
     ]
    }
   ],
   "source": [
    "from pyspark.sql.functions import sum\n",
    "\n",
    "# Grouping by 'CustomerID' and calculating the total transaction amount per customer\n",
    "df_total_spent = df_filtered.groupBy(\"CustomerID\").agg(sum(\"TransactionAmount\").alias(\"TotalSpent\"))\n",
    "\n",
    "# Showing the result\n",
    "df_total_spent.show(5)\n"
   ]
  },
  {
   "cell_type": "code",
   "execution_count": 0,
   "metadata": {
    "application/vnd.databricks.v1+cell": {
     "cellMetadata": {
      "byteLimit": 2048000,
      "rowLimit": 10000
     },
     "inputWidgets": {},
     "nuid": "a2045fa7-6b12-4e4a-8582-94f7a9bc0970",
     "showTitle": false,
     "title": ""
    }
   },
   "outputs": [
    {
     "output_type": "stream",
     "name": "stdout",
     "output_type": "stream",
     "text": [
      "+----------+----------------+\n|CustomerID|TransactionCount|\n+----------+----------------+\n|  CUST_246|             150|\n|  CUST_285|             139|\n|   CUST_62|             162|\n|  CUST_159|             154|\n|   CUST_25|             170|\n+----------+----------------+\nonly showing top 5 rows\n\n"
     ]
    }
   ],
   "source": [
    "from pyspark.sql.functions import count\n",
    "\n",
    "# Grouping by 'CustomerID' and count the number of transactions per customer\n",
    "df_transaction_count = df_filtered.groupBy(\"CustomerID\").agg(count(\"CustomerID\").alias(\"TransactionCount\"))\n",
    "\n",
    "# Showing the result\n",
    "df_transaction_count.show(5)\n"
   ]
  },
  {
   "cell_type": "code",
   "execution_count": 0,
   "metadata": {
    "application/vnd.databricks.v1+cell": {
     "cellMetadata": {
      "byteLimit": 2048000,
      "rowLimit": 10000
     },
     "inputWidgets": {},
     "nuid": "aa3a1be5-6ce2-4350-97b4-f60b13c7ab73",
     "showTitle": false,
     "title": ""
    }
   },
   "outputs": [
    {
     "output_type": "stream",
     "name": "stdout",
     "output_type": "stream",
     "text": [
      "+----------+------------------+----+\n|CustomerID|        TotalSpent|Rank|\n+----------+------------------+----+\n|   CUST_45| 58939.97000000002|   1|\n|  CUST_229|58236.110000000066|   2|\n|  CUST_248| 57890.63999999999|   3|\n|   CUST_44|           57608.6|   4|\n|  CUST_249|          57356.89|   5|\n+----------+------------------+----+\nonly showing top 5 rows\n\n"
     ]
    }
   ],
   "source": [
    "from pyspark.sql.window import Window\n",
    "from pyspark.sql.functions import rank\n",
    "\n",
    "# Defining a window specification for ranking customers by total spending\n",
    "windowSpec = Window.orderBy(df_total_spent[\"TotalSpent\"].desc())\n",
    "\n",
    "# Adding a 'Rank' column to rank customers by their total transaction amount\n",
    "df_ranked = df_total_spent.withColumn(\"Rank\", rank().over(windowSpec))\n",
    "\n",
    "# Showing the ranked customers\n",
    "df_ranked.show(5)\n"
   ]
  },
  {
   "cell_type": "code",
   "execution_count": 0,
   "metadata": {
    "application/vnd.databricks.v1+cell": {
     "cellMetadata": {
      "byteLimit": 2048000,
      "rowLimit": 10000
     },
     "inputWidgets": {},
     "nuid": "400e3985-56fe-4044-853e-b2b07dff735d",
     "showTitle": false,
     "title": ""
    }
   },
   "outputs": [
    {
     "output_type": "stream",
     "name": "stdout",
     "output_type": "stream",
     "text": [
      "+----------+------------------+----------------+\n|CustomerID|        TotalSpent|TransactionCount|\n+----------+------------------+----------------+\n|  CUST_246|45950.439999999995|             150|\n|  CUST_285|41186.819999999985|             139|\n|   CUST_62|49076.420000000006|             162|\n|  CUST_159| 47264.50000000001|             154|\n|   CUST_25| 50174.17000000002|             170|\n+----------+------------------+----------------+\nonly showing top 5 rows\n\n"
     ]
    }
   ],
   "source": [
    "merged_df = df_total_spent.join(df_transaction_count,on=\"CustomerID\", how=\"inner\")\n",
    "merged_df.show(5)   "
   ]
  },
  {
   "cell_type": "code",
   "execution_count": 0,
   "metadata": {
    "application/vnd.databricks.v1+cell": {
     "cellMetadata": {
      "byteLimit": 2048000,
      "rowLimit": 10000
     },
     "inputWidgets": {},
     "nuid": "462aef5e-fc13-4cd9-9ee2-1e4a5c79ee5b",
     "showTitle": false,
     "title": ""
    }
   },
   "outputs": [
    {
     "output_type": "stream",
     "name": "stdout",
     "output_type": "stream",
     "text": [
      "+----------+------------------+----------------+-----------------+-------------------+----------------+--------+\n|CustomerID|        TotalSpent|TransactionCount|TransactionAmount|    TransactionDate|MerchantCategory|Location|\n+----------+------------------+----------------+-----------------+-------------------+----------------+--------+\n|  CUST_246|45950.439999999995|             150|           434.33|2024-10-02 17:45:40|   Entertainment| Phoenix|\n|  CUST_285|41186.819999999985|             139|            432.5|2024-09-25 17:45:40|     Electronics|New York|\n|   CUST_62|49076.420000000006|             162|           232.99|2024-10-06 17:45:40|          Health| Phoenix|\n|  CUST_159| 47264.50000000001|             154|           399.11|2024-09-30 17:45:40|         Grocery| Phoenix|\n|   CUST_25| 50174.17000000002|             170|           205.73|2024-09-09 17:45:40|   Entertainment| Phoenix|\n+----------+------------------+----------------+-----------------+-------------------+----------------+--------+\nonly showing top 5 rows\n\n"
     ]
    }
   ],
   "source": [
    "final_df = merged_df.join(df_filtered, on=\"CustomerID\", how=\"inner\")\n",
    "final_df.show(5)"
   ]
  },
  {
   "cell_type": "code",
   "execution_count": 0,
   "metadata": {
    "application/vnd.databricks.v1+cell": {
     "cellMetadata": {
      "byteLimit": 2048000,
      "rowLimit": 10000
     },
     "inputWidgets": {},
     "nuid": "7221c3d1-326f-45a1-8e8e-e06494c71fe5",
     "showTitle": false,
     "title": ""
    }
   },
   "outputs": [],
   "source": [
    "# Saved transformed DataFrame for further analysis\n",
    "final_df.write.option(\"header\", \"true\").mode(\"overwrite\").csv(\"/mnt/processedtransactions/transformed data from databricks\")"
   ]
  }
 ],
 "metadata": {
  "application/vnd.databricks.v1+notebook": {
   "dashboards": [],
   "environmentMetadata": null,
   "language": "python",
   "notebookMetadata": {
    "pythonIndentUnit": 4
   },
   "notebookName": "ProcessCustomerTransactionData dadabrics notebook",
   "widgets": {}
  }
 },
 "nbformat": 4,
 "nbformat_minor": 0
}
